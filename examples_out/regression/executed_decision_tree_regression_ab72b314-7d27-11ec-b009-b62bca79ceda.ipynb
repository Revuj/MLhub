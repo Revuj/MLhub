{
 "cells": [
  {
   "cell_type": "markdown",
   "metadata": {},
   "source": [
    "\n",
    "## Decision Tree Regression\n"
   ]
  },
  {
   "cell_type": "markdown",
   "metadata": {},
   "source": [
    "## Importing the libraries"
   ]
  },
  {
   "cell_type": "code",
   "execution_count": 1,
   "metadata": {
    "execution": {
     "iopub.execute_input": "2022-01-24T15:09:48.682224Z",
     "iopub.status.busy": "2022-01-24T15:09:48.681403Z",
     "iopub.status.idle": "2022-01-24T15:09:54.565795Z",
     "shell.execute_reply": "2022-01-24T15:09:54.566183Z"
    }
   },
   "outputs": [],
   "source": [
    "\n",
    "import numpy as np\n",
    "import matplotlib.pyplot as plt\n",
    "import pandas as pd\n"
   ]
  },
  {
   "cell_type": "markdown",
   "metadata": {},
   "source": [
    "## Start stopwatch"
   ]
  },
  {
   "cell_type": "code",
   "execution_count": 2,
   "metadata": {
    "execution": {
     "iopub.execute_input": "2022-01-24T15:09:54.568628Z",
     "iopub.status.busy": "2022-01-24T15:09:54.568312Z",
     "iopub.status.idle": "2022-01-24T15:09:54.569452Z",
     "shell.execute_reply": "2022-01-24T15:09:54.569657Z"
    }
   },
   "outputs": [],
   "source": [
    "\n",
    "from time import process_time\n",
    "time_start = process_time() \n"
   ]
  },
  {
   "cell_type": "markdown",
   "metadata": {},
   "source": [
    "## Import the dataset"
   ]
  },
  {
   "cell_type": "code",
   "execution_count": 3,
   "metadata": {
    "execution": {
     "iopub.execute_input": "2022-01-24T15:09:54.572059Z",
     "iopub.status.busy": "2022-01-24T15:09:54.570820Z",
     "iopub.status.idle": "2022-01-24T15:09:54.576044Z",
     "shell.execute_reply": "2022-01-24T15:09:54.576242Z"
    }
   },
   "outputs": [],
   "source": [
    "\n",
    "X = pd.read_csv('/Users/rafavarela/Projects/MLhub/data/regression/features.csv')\n",
    "y = pd.read_csv('/Users/rafavarela/Projects/MLhub/data/regression/labels.csv')\n"
   ]
  },
  {
   "cell_type": "markdown",
   "metadata": {},
   "source": [
    "### Categorize dataset"
   ]
  },
  {
   "cell_type": "code",
   "execution_count": 4,
   "metadata": {
    "execution": {
     "iopub.execute_input": "2022-01-24T15:09:54.582838Z",
     "iopub.status.busy": "2022-01-24T15:09:54.582166Z",
     "iopub.status.idle": "2022-01-24T15:09:54.584232Z",
     "shell.execute_reply": "2022-01-24T15:09:54.584426Z"
    }
   },
   "outputs": [],
   "source": [
    "def categorize_column(dataframe, category_threshold, column):\n",
    "    \n",
    "    uniq = dataframe[column].unique()\n",
    "    if len(uniq) <= category_threshold:\n",
    "        dataframe[column] = dataframe[column].astype('category').cat.codes\n",
    "        \n",
    "\n",
    "def categorize_dataframe(dataframe, category_threshold):\n",
    "    for c in dataframe.columns:\n",
    "        categorize_column(dataframe, category_threshold, c)\n",
    "        \n",
    "categorize_dataframe(X, 10)\n",
    "categorize_dataframe(y, 10)\n",
    "X = X.values\n",
    "y = y.values\n"
   ]
  },
  {
   "cell_type": "markdown",
   "metadata": {},
   "source": [
    "## Splitting the dataset into the Training set and Test set"
   ]
  },
  {
   "cell_type": "code",
   "execution_count": 5,
   "metadata": {
    "execution": {
     "iopub.execute_input": "2022-01-24T15:09:54.586550Z",
     "iopub.status.busy": "2022-01-24T15:09:54.586242Z",
     "iopub.status.idle": "2022-01-24T15:10:11.825726Z",
     "shell.execute_reply": "2022-01-24T15:10:11.826633Z"
    }
   },
   "outputs": [],
   "source": [
    "\n",
    "from sklearn.model_selection import train_test_split\n",
    "X_train, X_test, y_train, y_test = train_test_split(X, y,  test_size=0.1,\n",
    "                        train_size=None,\n",
    "                        random_state=0,\n",
    "                        shuffle=0,\n",
    "                        stratify=X if \"None\" == \"features\" else y if \"None\" == \"labels\" else None)\n"
   ]
  },
  {
   "cell_type": "markdown",
   "metadata": {},
   "source": [
    "## Training the Simple Decision Tree model on the Training set"
   ]
  },
  {
   "cell_type": "code",
   "execution_count": 6,
   "metadata": {
    "execution": {
     "iopub.execute_input": "2022-01-24T15:10:11.833289Z",
     "iopub.status.busy": "2022-01-24T15:10:11.832760Z",
     "iopub.status.idle": "2022-01-24T15:10:15.572890Z",
     "shell.execute_reply": "2022-01-24T15:10:15.573439Z"
    }
   },
   "outputs": [
    {
     "data": {
      "text/plain": [
       "DecisionTreeRegressor(criterion='absolute_error', max_leaf_nodes=3,\n",
       "                      min_impurity_decrease=15.1)"
      ]
     },
     "execution_count": 6,
     "metadata": {},
     "output_type": "execute_result"
    }
   ],
   "source": [
    "\n",
    "from sklearn.tree import DecisionTreeRegressor\n",
    "regressor = DecisionTreeRegressor(criterion=\"absolute_error\", splitter=\"best\", \n",
    "                            max_depth=None, \n",
    "                            min_samples_split= 2,\n",
    "                            min_samples_leaf= 1,\n",
    "                            min_weight_fraction_leaf= 0.0,\n",
    "                            max_features=None if \"None\".isnumeric() or \"None\" == \"None\" else \"None\",\n",
    "                            random_state= None,\n",
    "                            max_leaf_nodes= 3,\n",
    "                            min_impurity_decrease= 15.1,\n",
    "                            ccp_alpha= 0.0)\n",
    "regressor.fit(X_train, y_train)\n"
   ]
  },
  {
   "cell_type": "markdown",
   "metadata": {},
   "source": [
    "## Predicting the Test set results"
   ]
  },
  {
   "cell_type": "code",
   "execution_count": 7,
   "metadata": {
    "execution": {
     "iopub.execute_input": "2022-01-24T15:10:15.579567Z",
     "iopub.status.busy": "2022-01-24T15:10:15.578816Z",
     "iopub.status.idle": "2022-01-24T15:10:15.580658Z",
     "shell.execute_reply": "2022-01-24T15:10:15.581103Z"
    }
   },
   "outputs": [],
   "source": [
    "\n",
    "y_pred = regressor.predict(X_test)\n"
   ]
  },
  {
   "cell_type": "markdown",
   "metadata": {},
   "source": [
    "## Evaluating the Model Performance"
   ]
  },
  {
   "cell_type": "code",
   "execution_count": 8,
   "metadata": {
    "execution": {
     "iopub.execute_input": "2022-01-24T15:10:15.599075Z",
     "iopub.status.busy": "2022-01-24T15:10:15.598491Z",
     "iopub.status.idle": "2022-01-24T15:10:15.742425Z",
     "shell.execute_reply": "2022-01-24T15:10:15.742197Z"
    }
   },
   "outputs": [
    {
     "name": "stdout",
     "output_type": "stream",
     "text": [
      "R2 Score: 0.7837736333002069\n",
      "RMSE: 18126.56184917427\n",
      "MAE: 13484.312\n"
     ]
    },
    {
     "data": {
      "image/png": "[encoded data removed]",
      "text/plain": [
       "<Figure size 432x288 with 1 Axes>"
      ]
     },
     "metadata": {
      "needs_background": "light"
     },
     "output_type": "display_data"
    },
    {
     "name": "stdout",
     "output_type": "stream",
     "text": [
      "Elapsed CPU Time: 1.12 seconds\n"
     ]
    }
   ],
   "source": [
    "\n",
    "from sklearn.metrics import r2_score, mean_squared_error, mean_absolute_error\n",
    "r2_score = r2_score(y_test, y_pred)\n",
    "rmse = mean_squared_error(y_test, y_pred)**0.5\n",
    "mae = mean_absolute_error(y_test, y_pred)\n",
    "print(f'R2 Score: {r2_score}')\n",
    "print(f'RMSE: {rmse}')\n",
    "print(f'MAE: {mae}')\n",
    "\n",
    "x_ax = range(len(y_test))\n",
    "plt.plot(x_ax, y_test, linewidth=1, label=\"original\")\n",
    "plt.plot(x_ax, y_pred, linewidth=1.1, label=\"predicted\")\n",
    "plt.title(\"y-test and y-predicted data\")\n",
    "plt.xlabel('X-axis')\n",
    "plt.ylabel('Y-axis')\n",
    "plt.legend(loc='best',fancybox=True, shadow=True)\n",
    "plt.grid(True)\n",
    "plt.show()\n",
    "\n",
    "time_stop = process_time()\n",
    "cpu_time = round(time_stop - time_start, 2)\n",
    "print(f'Elapsed CPU Time: {cpu_time} seconds')\n"
   ]
  },
  {
   "cell_type": "markdown",
   "metadata": {},
   "source": [
    "## Saving Model Statistics"
   ]
  },
  {
   "cell_type": "code",
   "execution_count": 9,
   "metadata": {
    "execution": {
     "iopub.execute_input": "2022-01-24T15:10:15.745481Z",
     "iopub.status.busy": "2022-01-24T15:10:15.745144Z",
     "iopub.status.idle": "2022-01-24T15:10:15.746981Z",
     "shell.execute_reply": "2022-01-24T15:10:15.747149Z"
    }
   },
   "outputs": [],
   "source": [
    "\n",
    "import os\n",
    "import json\n",
    "\n",
    "path = 'statistics'\n",
    "if not os.path.exists(path):\n",
    "    os.mkdir(path)\n",
    "\n",
    "stats = {\n",
    "    \"R2 Score\": r2_score,\n",
    "    \"RMSE\": rmse,\n",
    "    \"MAE\": mae,\n",
    "    \"cpu time\": cpu_time,\n",
    "    \"predicted\": y_pred.flatten().tolist(), \n",
    "    \"real\": y_test.flatten().tolist()\n",
    "}\n",
    "\n",
    "with open(os.path.join(path, \"decision_tree_regression_ab72b314-7d27-11ec-b009-b62bca79ceda.json\"), \"w\") as f:\n",
    "    json.dump(stats, f, ensure_ascii=False, indent=4)\n"
   ]
  }
 ],
 "metadata": {
  "interpreter": {
   "hash": "ce6b9bb680dc74cb622ad82a172082906f8bce9278027f36f6e7940b0e35625a"
  },
  "kernelspec": {
   "display_name": "Python 3.8.9 64-bit ('env': venv)",
   "name": "python3"
  },
  "language_info": {
   "codemirror_mode": {
    "name": "ipython",
    "version": 3
   },
   "file_extension": ".py",
   "mimetype": "text/x-python",
   "name": "python",
   "nbconvert_exporter": "python",
   "pygments_lexer": "ipython3",
   "version": "3.8.9"
  }
 },
 "nbformat": 4,
 "nbformat_minor": 2
}
