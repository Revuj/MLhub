{
 "cells": [
  {
   "cell_type": "markdown",
   "metadata": {},
   "source": [
    "\n",
    "# Decision Tree Classification\n"
   ]
  },
  {
   "cell_type": "markdown",
   "metadata": {},
   "source": [
    "## Importing the libraries"
   ]
  },
  {
   "cell_type": "code",
   "execution_count": 1,
   "metadata": {
    "execution": {
     "iopub.execute_input": "2022-01-24T15:46:22.548748Z",
     "iopub.status.busy": "2022-01-24T15:46:22.548258Z",
     "iopub.status.idle": "2022-01-24T15:46:23.986806Z",
     "shell.execute_reply": "2022-01-24T15:46:23.989725Z"
    }
   },
   "outputs": [],
   "source": [
    "\n",
    "import numpy as np\n",
    "import matplotlib.pyplot as plt\n",
    "import pandas as pd\n"
   ]
  },
  {
   "cell_type": "markdown",
   "metadata": {},
   "source": [
    "## Start stopwatch"
   ]
  },
  {
   "cell_type": "code",
   "execution_count": 2,
   "metadata": {
    "execution": {
     "iopub.execute_input": "2022-01-24T15:46:24.002721Z",
     "iopub.status.busy": "2022-01-24T15:46:24.002055Z",
     "iopub.status.idle": "2022-01-24T15:46:24.006583Z",
     "shell.execute_reply": "2022-01-24T15:46:24.008524Z"
    }
   },
   "outputs": [],
   "source": [
    "\n",
    "from time import process_time\n",
    "time_start = process_time() \n"
   ]
  },
  {
   "cell_type": "markdown",
   "metadata": {},
   "source": [
    "## Import the dataset"
   ]
  },
  {
   "cell_type": "code",
   "execution_count": 3,
   "metadata": {
    "execution": {
     "iopub.execute_input": "2022-01-24T15:46:24.019243Z",
     "iopub.status.busy": "2022-01-24T15:46:24.018275Z",
     "iopub.status.idle": "2022-01-24T15:46:24.028719Z",
     "shell.execute_reply": "2022-01-24T15:46:24.029431Z"
    }
   },
   "outputs": [],
   "source": [
    "\n",
    "X = pd.read_csv('/Users/rafavarela/Projects/MLhub/data/classification/features.csv')\n",
    "y = pd.read_csv('/Users/rafavarela/Projects/MLhub/data/classification/labels.csv')\n"
   ]
  },
  {
   "cell_type": "markdown",
   "metadata": {},
   "source": [
    "### Categorize dataset"
   ]
  },
  {
   "cell_type": "code",
   "execution_count": 4,
   "metadata": {
    "execution": {
     "iopub.execute_input": "2022-01-24T15:46:24.038379Z",
     "iopub.status.busy": "2022-01-24T15:46:24.037682Z",
     "iopub.status.idle": "2022-01-24T15:46:24.039463Z",
     "shell.execute_reply": "2022-01-24T15:46:24.040203Z"
    }
   },
   "outputs": [],
   "source": [
    "def categorize_column(dataframe, category_threshold, column):\n",
    "    \n",
    "    uniq = dataframe[column].unique()\n",
    "    if len(uniq) <= category_threshold:\n",
    "        dataframe[column] = dataframe[column].astype('category').cat.codes\n",
    "        \n",
    "\n",
    "def categorize_dataframe(dataframe, category_threshold):\n",
    "    for c in dataframe.columns:\n",
    "        categorize_column(dataframe, category_threshold, c)\n",
    "        \n",
    "categorize_dataframe(X, 10)\n",
    "categorize_dataframe(y, 10)\n",
    "X = X.values\n",
    "y = y.values\n"
   ]
  },
  {
   "cell_type": "markdown",
   "metadata": {},
   "source": [
    "## Splitting the dataset into the Training set and Test set"
   ]
  },
  {
   "cell_type": "code",
   "execution_count": 5,
   "metadata": {
    "execution": {
     "iopub.execute_input": "2022-01-24T15:46:24.044830Z",
     "iopub.status.busy": "2022-01-24T15:46:24.044179Z",
     "iopub.status.idle": "2022-01-24T15:46:24.523737Z",
     "shell.execute_reply": "2022-01-24T15:46:24.524087Z"
    }
   },
   "outputs": [],
   "source": [
    "\n",
    "from sklearn.model_selection import train_test_split\n",
    "X_train, X_test, y_train, y_test = train_test_split(X, y,  test_size=0.1,\n",
    "                        train_size=None,\n",
    "                        random_state=0,\n",
    "                        shuffle=0,\n",
    "                        stratify=X if \"None\" == \"features\" else y if \"None\" == \"labels\" else None)\n"
   ]
  },
  {
   "cell_type": "markdown",
   "metadata": {},
   "source": [
    "## Training the Simple Decision Tree model on the Training set"
   ]
  },
  {
   "cell_type": "code",
   "execution_count": 6,
   "metadata": {
    "execution": {
     "iopub.execute_input": "2022-01-24T15:46:24.534765Z",
     "iopub.status.busy": "2022-01-24T15:46:24.533475Z",
     "iopub.status.idle": "2022-01-24T15:46:24.609952Z",
     "shell.execute_reply": "2022-01-24T15:46:24.611178Z"
    }
   },
   "outputs": [
    {
     "data": {
      "text/plain": [
       "DecisionTreeClassifier(criterion='entropy')"
      ]
     },
     "execution_count": 6,
     "metadata": {},
     "output_type": "execute_result"
    }
   ],
   "source": [
    "\n",
    "from sklearn.tree import DecisionTreeClassifier\n",
    "classifier = DecisionTreeClassifier(criterion=\"entropy\", \n",
    "                            splitter=\"best\", \n",
    "                            max_depth=None, \n",
    "                            min_samples_split= 2,\n",
    "                            min_samples_leaf= 1,\n",
    "                            min_weight_fraction_leaf= 0.0,\n",
    "                            max_features=None if \"None\".isnumeric() or \"None\" == \"None\" else \"None\",\n",
    "                            random_state= None,\n",
    "                            max_leaf_nodes= None,\n",
    "                            min_impurity_decrease= 0.0,\n",
    "                            ccp_alpha= 0.0)\n",
    "classifier.fit(X_train, y_train)\n"
   ]
  },
  {
   "cell_type": "markdown",
   "metadata": {},
   "source": [
    "## Predicting the Test set results"
   ]
  },
  {
   "cell_type": "code",
   "execution_count": 7,
   "metadata": {
    "execution": {
     "iopub.execute_input": "2022-01-24T15:46:24.615637Z",
     "iopub.status.busy": "2022-01-24T15:46:24.615035Z",
     "iopub.status.idle": "2022-01-24T15:46:24.618142Z",
     "shell.execute_reply": "2022-01-24T15:46:24.618523Z"
    }
   },
   "outputs": [],
   "source": [
    "\n",
    "y_pred = classifier.predict(X_test)\n"
   ]
  },
  {
   "cell_type": "markdown",
   "metadata": {},
   "source": [
    "## Evaluating the Model Performance"
   ]
  },
  {
   "cell_type": "code",
   "execution_count": 8,
   "metadata": {
    "execution": {
     "iopub.execute_input": "2022-01-24T15:46:24.629265Z",
     "iopub.status.busy": "2022-01-24T15:46:24.628287Z",
     "iopub.status.idle": "2022-01-24T15:46:26.300432Z",
     "shell.execute_reply": "2022-01-24T15:46:26.303287Z"
    }
   },
   "outputs": [
    {
     "name": "stdout",
     "output_type": "stream",
     "text": [
      "Accuracy Score: 0.85\n",
      "Precision Score: 0.6\n",
      "Recall Score: 0.8660254037844386\n",
      "F1 Score: 0.6666666666666665\n"
     ]
    },
    {
     "data": {
      "image/png": "[encoded data removed]",
      "text/plain": [
       "<Figure size 432x288 with 2 Axes>"
      ]
     },
     "metadata": {
      "needs_background": "light"
     },
     "output_type": "display_data"
    },
    {
     "name": "stdout",
     "output_type": "stream",
     "text": [
      "Elapsed CPU Time: 0.68 seconds\n"
     ]
    }
   ],
   "source": [
    "\n",
    "from sklearn.metrics import accuracy_score, precision_score, recall_score, f1_score, confusion_matrix, plot_confusion_matrix\n",
    "import seaborn as sns\n",
    "\n",
    "acc = accuracy_score(y_test, y_pred)\n",
    "precision = precision_score(y_test, y_pred)\n",
    "recall = recall_score(y_test, y_pred)**0.5\n",
    "f1 = f1_score(y_test, y_pred)\n",
    "print(f'Accuracy Score: {acc}')\n",
    "print(f'Precision Score: {precision}')\n",
    "print(f'Recall Score: {recall}')\n",
    "print(f'F1 Score: {f1}')\n",
    "\n",
    "cm = confusion_matrix(y_test, y_pred)\n",
    "cm_df = pd.DataFrame(cm)           \n",
    "ax = plt.subplot()\n",
    "sns.heatmap(cm, annot=True, fmt='g', ax=ax);  \n",
    "ax.set_xlabel('Predicted labels');ax.set_ylabel('True labels'); \n",
    "ax.set_title('Confusion Matrix');           \n",
    "plt.show()\n",
    "\n",
    "time_stop = process_time()\n",
    "cpu_time = round(time_stop - time_start, 2)\n",
    "print(f'Elapsed CPU Time: {cpu_time} seconds')\n"
   ]
  },
  {
   "cell_type": "markdown",
   "metadata": {},
   "source": [
    "## Saving Model Statistics"
   ]
  },
  {
   "cell_type": "code",
   "execution_count": 9,
   "metadata": {
    "execution": {
     "iopub.execute_input": "2022-01-24T15:46:26.312686Z",
     "iopub.status.busy": "2022-01-24T15:46:26.311684Z",
     "iopub.status.idle": "2022-01-24T15:46:26.317176Z",
     "shell.execute_reply": "2022-01-24T15:46:26.317733Z"
    }
   },
   "outputs": [],
   "source": [
    "\n",
    "import os\n",
    "import json\n",
    "\n",
    "path = 'statistics'\n",
    "if not os.path.exists(path):\n",
    "    os.mkdir(path)\n",
    "\n",
    "stats = {\n",
    "    \"Accuracy Score\": acc,\n",
    "    \"Precision Score\": precision,\n",
    "    \"Recall Score\": recall,\n",
    "    \"F1 Score\": f1,\n",
    "    \"cpu time\": cpu_time,\n",
    "    \"predicted\": y_pred.flatten().tolist(), \n",
    "    \"real\": y_test.flatten().tolist()\n",
    "}\n",
    "\n",
    "with open(os.path.join(path, \"tree2 classifier.json\"), \"w\") as f:\n",
    "    json.dump(stats, f, ensure_ascii=False, indent=4)\n"
   ]
  }
 ],
 "metadata": {
  "interpreter": {
   "hash": "ce6b9bb680dc74cb622ad82a172082906f8bce9278027f36f6e7940b0e35625a"
  },
  "kernelspec": {
   "display_name": "Python 3.8.9 64-bit ('env': venv)",
   "name": "python3"
  },
  "language_info": {
   "codemirror_mode": {
    "name": "ipython",
    "version": 3
   },
   "file_extension": ".py",
   "mimetype": "text/x-python",
   "name": "python",
   "nbconvert_exporter": "python",
   "pygments_lexer": "ipython3",
   "version": "3.8.9"
  }
 },
 "nbformat": 4,
 "nbformat_minor": 2
}
