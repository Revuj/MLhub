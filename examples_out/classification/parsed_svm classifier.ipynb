{
 "cells": [
  {
   "cell_type": "markdown",
   "source": [
    "\n",
    "# Support Vector Machine Classification\n",
    ""
   ],
   "metadata": {}
  },
  {
   "cell_type": "markdown",
   "source": [
    "## Importing the libraries"
   ],
   "metadata": {}
  },
  {
   "cell_type": "code",
   "execution_count": null,
   "source": [
    "\n",
    "import numpy as np\n",
    "import matplotlib.pyplot as plt\n",
    "import pandas as pd\n",
    ""
   ],
   "outputs": [],
   "metadata": {}
  },
  {
   "cell_type": "markdown",
   "source": [
    "## Start stopwatch"
   ],
   "metadata": {}
  },
  {
   "cell_type": "code",
   "execution_count": null,
   "source": [
    "\n",
    "from time import process_time\n",
    "time_start = process_time() \n",
    ""
   ],
   "outputs": [],
   "metadata": {}
  },
  {
   "cell_type": "markdown",
   "source": [
    "## Import the dataset"
   ],
   "metadata": {}
  },
  {
   "cell_type": "code",
   "execution_count": null,
   "source": [
    "\n",
    "X = pd.read_csv('/Users/rafavarela/Projects/MLhub/data/classification/features.csv')\n",
    "y = pd.read_csv('/Users/rafavarela/Projects/MLhub/data/classification/labels.csv')\n",
    ""
   ],
   "outputs": [],
   "metadata": {}
  },
  {
   "cell_type": "markdown",
   "source": [
    "### Categorize dataset"
   ],
   "metadata": {}
  },
  {
   "cell_type": "code",
   "execution_count": null,
   "source": [
    "def categorize_column(dataframe, category_threshold, column):\n",
    "    \n",
    "    uniq = dataframe[column].unique()\n",
    "    if len(uniq) <= category_threshold:\n",
    "        dataframe[column] = dataframe[column].astype('category').cat.codes\n",
    "        \n",
    "\n",
    "def categorize_dataframe(dataframe, category_threshold):\n",
    "    for c in dataframe.columns:\n",
    "        categorize_column(dataframe, category_threshold, c)\n",
    "        \n",
    "categorize_dataframe(X, 10)\n",
    "categorize_dataframe(y, 10)\n",
    "X = X.values\n",
    "y = y.values\n"
   ],
   "outputs": [],
   "metadata": {}
  },
  {
   "cell_type": "markdown",
   "source": [
    "## Splitting the dataset into the Training set and Test set"
   ],
   "metadata": {}
  },
  {
   "cell_type": "code",
   "execution_count": null,
   "source": [
    "\n",
    "from sklearn.model_selection import train_test_split\n",
    "X_train, X_test, y_train, y_test = train_test_split(X, y,  test_size=0.1,\n",
    "                        train_size=None,\n",
    "                        random_state=0,\n",
    "                        shuffle=0,\n",
    "                        stratify=X if \"None\" == \"features\" else y if \"None\" == \"labels\" else None)\n",
    ""
   ],
   "outputs": [],
   "metadata": {}
  },
  {
   "cell_type": "markdown",
   "source": [
    "## Training the Simple Decision Tree model on the Training set"
   ],
   "metadata": {}
  },
  {
   "cell_type": "code",
   "execution_count": null,
   "source": [
    "\n",
    "from sklearn.svm import SVC\n",
    "classifier = SVC(C = 1.0,\n",
    "                kernel = \"rbf\",\n",
    "                degree = 3,\n",
    "                gamma= scale if \"scale\".isnumeric() else \"scale\",\n",
    "                coef0 = 0.0,\n",
    "                shrinking = True,\n",
    "                probability = False,\n",
    "                tol = 0.001,\n",
    "                max_iter = -1,\n",
    "                decision_function_shape = \"ovr\",\n",
    "                break_ties = False)\n",
    "classifier.fit(X_train, y_train)\n",
    ""
   ],
   "outputs": [],
   "metadata": {}
  },
  {
   "cell_type": "markdown",
   "source": [
    "## Predicting the Test set results"
   ],
   "metadata": {}
  },
  {
   "cell_type": "code",
   "execution_count": null,
   "source": [
    "\n",
    "y_pred = classifier.predict(X_test)\n",
    ""
   ],
   "outputs": [],
   "metadata": {}
  },
  {
   "cell_type": "markdown",
   "source": [
    "## Evaluating the Model Performance"
   ],
   "metadata": {}
  },
  {
   "cell_type": "code",
   "execution_count": null,
   "source": [
    "\n",
    "from sklearn.metrics import accuracy_score, precision_score, recall_score, f1_score, confusion_matrix, plot_confusion_matrix\n",
    "import seaborn as sns\n",
    "\n",
    "acc = accuracy_score(y_test, y_pred)\n",
    "precision = precision_score(y_test, y_pred)\n",
    "recall = recall_score(y_test, y_pred)**0.5\n",
    "f1 = f1_score(y_test, y_pred)\n",
    "print(f'Accuracy Score: {acc}')\n",
    "print(f'Precision Score: {precision}')\n",
    "print(f'Recall Score: {recall}')\n",
    "print(f'F1 Score: {f1}')\n",
    "\n",
    "cm = confusion_matrix(y_test, y_pred)\n",
    "cm_df = pd.DataFrame(cm)           \n",
    "ax = plt.subplot()\n",
    "sns.heatmap(cm, annot=True, fmt='g', ax=ax);  \n",
    "ax.set_xlabel('Predicted labels');ax.set_ylabel('True labels'); \n",
    "ax.set_title('Confusion Matrix');           \n",
    "plt.show()\n",
    "\n",
    "time_stop = process_time()\n",
    "cpu_time = round(time_stop - time_start, 2)\n",
    "print(f'Elapsed CPU Time: {cpu_time} seconds')\n",
    ""
   ],
   "outputs": [],
   "metadata": {}
  },
  {
   "cell_type": "markdown",
   "source": [
    "## Saving Model Statistics"
   ],
   "metadata": {}
  },
  {
   "cell_type": "code",
   "execution_count": null,
   "source": [
    "\n",
    "import os\n",
    "import json\n",
    "\n",
    "path = 'statistics'\n",
    "if not os.path.exists(path):\n",
    "    os.mkdir(path)\n",
    "\n",
    "stats = {\n",
    "    \"Accuracy Score\": acc,\n",
    "    \"Precision Score\": precision,\n",
    "    \"Recall Score\": recall,\n",
    "    \"F1 Score\": f1,\n",
    "    \"cpu time\": cpu_time,\n",
    "    \"predicted\": y_pred.flatten().tolist(), \n",
    "    \"real\": y_test.flatten().tolist()\n",
    "}\n",
    "\n",
    "with open(os.path.join(path, \"svm classifier.json\"), \"w\") as f:\n",
    "    json.dump(stats, f, ensure_ascii=False, indent=4)\n",
    ""
   ],
   "outputs": [],
   "metadata": {}
  }
 ],
 "metadata": {
  "language_info": {
   "name": "python",
   "version": "3.8.9",
   "mimetype": "text/x-python",
   "codemirror_mode": {
    "name": "ipython",
    "version": 3
   },
   "pygments_lexer": "ipython3",
   "nbconvert_exporter": "python",
   "file_extension": ".py"
  },
  "orig_nbformat": 4,
  "kernelspec": {
   "name": "python3",
   "display_name": "Python 3.8.9 64-bit ('env': venv)"
  },
  "interpreter": {
   "hash": "ce6b9bb680dc74cb622ad82a172082906f8bce9278027f36f6e7940b0e35625a"
  }
 },
 "nbformat": 4,
 "nbformat_minor": 2
}