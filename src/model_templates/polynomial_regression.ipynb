{
  "cells": [
    {
      "cell_type": "markdown",
      "source": [
        "## Training the Polynomial Regression model on the whole dataset"
      ],
      "metadata": {
        "colab_type": "text",
        "id": "Rb5nWuSHEfBV"
      }
    },
    {
      "cell_type": "code",
      "execution_count": null,
      "source": [
        "{% block title %}\n",
        "## Polynomial Regression\n",
        "{% endblock %}\n",
        "{% block train %}\n",
        "from sklearn.preprocessing import PolynomialFeatures\n",
        "from sklearn.linear_model import LinearRegression\n",
        "poly_reg = PolynomialFeatures(degree= {{model.degree}},\n",
        "                            interaction_only= {{model.interaction_only}},\n",
        "                            include_bias= {{model.include_bias}},\n",
        "                            order= \"{{model.order}}\")\n",
        "X_poly = poly_reg.fit_transform(X_train)\n",
        "lin_reg = LinearRegression(fit_intercept= {{model.fit_intercept}},\n",
        "                            normalize= {{model.normalize}},\n",
        "                            copy_X= {{model.copy_X}},\n",
        "                            n_jobs= {{model.n_jobs}},\n",
        "                            positive= {{model.positive}})\n",
        "lin_reg.fit(X_poly, y_train)\n",
        "{% endblock %}\n",
        "{% block predict %}\n",
        "y_pred = lin_reg.predict(poly_reg.fit_transform(X_test))\n",
        "{% endblock %}"
      ],
      "outputs": [],
      "metadata": {
        "colab": {
          "base_uri": "https://localhost:8080/",
          "height": 35
        },
        "colab_type": "code",
        "id": "HYplp4pTEm0O",
        "outputId": "4c3c03dd-0def-4584-a893-aa2e72629e8f"
      }
    }
  ],
  "metadata": {
    "colab": {
      "collapsed_sections": [],
      "name": "polynomial_regression.ipynb",
      "provenance": [],
      "toc_visible": true
    },
    "kernelspec": {
      "display_name": "Python 3",
      "name": "python3"
    }
  },
  "nbformat": 4,
  "nbformat_minor": 2
}