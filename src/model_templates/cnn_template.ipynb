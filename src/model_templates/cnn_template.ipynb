{
 "cells": [
  {
   "cell_type": "markdown",
   "metadata": {},
   "source": [
    "{% block title %}\n",
    "{% endblock %}"
   ]
  },
  {
   "cell_type": "markdown",
   "metadata": {},
   "source": [
    "## Importing the libraries"
   ]
  },
  {
   "cell_type": "code",
   "execution_count": null,
   "metadata": {},
   "outputs": [],
   "source": [
    "{% block imports %}\n",
    "import numpy as np\n",
    "import pandas as pd\n",
    "import matplotlib.pyplot as plt\n",
    "from sklearn.model_selection import train_test_split\n",
    "from sklearn.metrics import classification_report\n",
    "from tensorflow import keras\n",
    "from tensorflow.keras.models import Sequential\n",
    "from tensorflow.keras.layers import Activation, Dense, Flatten, Conv1D, Conv2D, Conv3D, Dropout, MaxPooling1D, MaxPooling2D, MaxPooling3D, AveragePooling1D, AveragePooling2D, AveragePooling3D, BatchNormalization\n",
    "{% endblock %}"
   ]
  },
  {
   "cell_type": "markdown",
   "metadata": {},
   "source": [
    "## Start stopwatch"
   ]
  },
  {
   "cell_type": "code",
   "execution_count": null,
   "metadata": {},
   "outputs": [],
   "source": [
    "{% block stopwatch %}\n",
    "from time import process_time\n",
    "time_start = process_time() \n",
    "{% endblock %}"
   ]
  },
  {
   "cell_type": "markdown",
   "metadata": {},
   "source": [
    "## Import the dataset"
   ]
  },
  {
   "cell_type": "code",
   "execution_count": null,
   "metadata": {},
   "outputs": [],
   "source": [
    "{% block dataset %}\n",
    "X = pd.read_csv('{{ features_file_path }}')\n",
    "y = pd.read_csv('{{ labels_file_path }}')\n",
    "{% endblock %}"
   ]
  },
  {
   "cell_type": "markdown",
   "metadata": {},
   "source": [
    "## Splitting the dataset into the Training set and Test set"
   ]
  },
  {
   "cell_type": "code",
   "execution_count": null,
   "metadata": {},
   "outputs": [],
   "source": [
    "{% block split %}\n",
    "from sklearn.model_selection import train_test_split\n",
    "X_train, X_test, y_train, y_test = train_test_split(X, y,  test_size={{train_split.test_size}},\n",
    "                        train_size={{train_split.train_size}},\n",
    "                        random_state={{train_split.random_state}},\n",
    "                        shuffle={{train_split.random_state}},\n",
    "                        stratify=X if \"{{train_split.stratify}}\" == \"features\" else y if \"{{train_split.stratify}}\" == \"labels\" else None)\n",
    "y_true = y_test\n",
    "{% endblock %}"
   ]
  },
  {
   "cell_type": "markdown",
   "metadata": {},
   "source": [
    "## Data preprocessing"
   ]
  },
  {
   "cell_type": "code",
   "execution_count": null,
   "metadata": {},
   "outputs": [],
   "source": [
    "{% block preprocess %}\n",
    "{% endblock %}"
   ]
  },
  {
   "cell_type": "markdown",
   "metadata": {},
   "source": [
    "## Build the model"
   ]
  },
  {
   "cell_type": "code",
   "execution_count": null,
   "metadata": {},
   "outputs": [],
   "source": [
    "model = Sequential()\n",
    "{% for i in range(model.layers|length) %}{% if model.layers[i] == 'flatten' %}model.add(Flatten())\n",
    "{% elif 'dense' in model.layers[i].keys() %}model.add(Dense({{model.layers[i].dense.units}}{% if model.layers[i].dense.activation%}, activation=\"{{model.layers[i].dense.activation}}\"{% endif %}))\n",
    "{% elif 'dropout' in model.layers[i].keys() %}model.add(Dropout({{model.layers[i].dropout}}))\n",
    "{% elif 'convolution' in model.layers[i].keys() %}{% if model.layers[i].convolution.size is integer %}model.add(Conv1D({{model.layers[i].convolution.filters}}, kernel_size={{model.layers[i].convolution.size}}{% if model.layers[i].convolution.activation%}, activation=\"{{model.layers[i].convolution.activation}}\"{% endif %}{% if i == 0 %}{% block input_shape1d %}{% endblock %}{% endif %})){% elif model.layers[i].convolution.size|length == 2 %}model.add(Conv2D({{model.layers[i].convolution.filters}}, kernel_size={{model.layers[i].convolution.size}}{% if model.layers[i].convolution.activation%}, activation=\"{{model.layers[i].convolution.activation}}\"{% endif %}{% if i == 0 %}{% block input_shape2d %}{% endblock %}{% endif %})){% else %}model.add(Conv3D({{model.layers[i].convolution.filters}}, kernel_size={{model.layers[i].convolution.size}}{% if model.layers[i].convolution.activation%}, activation=\"{{model.layers[i].convolution.activation}}\"{% endif %}{% if i == 0 %}{% block input_shape3d %}{% endblock %}{% endif %})){% endif %}\n",
    "{% elif 'activation' in model.layers[i].keys() %}model.add(Activation(\"{{model.layers[i].activation}}\"))\n",
    "{% elif 'pooling' in model.layers[i].keys() %}{% if model.layers[i].pooling.size is integer and model.layers[i].pooling.type == 'max' %}model.add(MaxPooling1D({{model.layers[i].pooling.size}})){% elif model.layers[i].pooling.size is integer and model.layers[i].pooling.type == 'average' %}model.add(AveragePooling1D({{model.layers[i].pooling.size}})){% elif model.layers[i].pooling.size|length == 2 and model.layers[i].pooling.type == 'max' %}model.add(MaxPooling2D({{model.layers[i].pooling.size}})){% elif model.layers[i].pooling.size|length == 2 and model.layers[i].pooling.type == 'average' %}model.add(AveragePooling2D({{model.layers[i].pooling.size}})){% elif model.layers[i].pooling.size|length == 3 and model.layers[i].pooling.type == 'max' %}model.add(MaxPooling3D({{model.layers[i].pooling.size}})){% elif model.layers[i].pooling.size|length == 3 and model.layers[i].pooling.type == 'average' %}model.add(AveragePooling3D({{model.layers[i].pooling.size}})){% endif %}\n",
    "{% elif 'batch_normalization' in model.layers[i].keys() %}model.add(BatchNormalization({{model.layers[i].batch_normalization.axis}})){% endif %}{%  endfor %}\n",
    "\n",
    "model.compile(\n",
    "            loss={% if model.loss == 'categorical_crossentropy' %}keras.losses.CategoricalCrossentropy(){% else %}keras.losses.MeanSquaredError(){% endif %},\n",
    "            optimizer={% if model.optimizer.name == 'adam' %}keras.optimizers.Adam({% if model.optimizer.learning_rate %}learning_rate={{model.optimizer.learning_rate}}{% endif %}){% elif model.optimizer.name == 'adadelta' %}keras.optimizers.Adadelta({% if model.optimizer.learning_rate %}learning_rate={{model.optimizer.learning_rate}}{% endif %}){% elif model.optimizer.name == 'sgd' %}keras.optimizers.SGD({% if model.optimizer.learning_rate %}learning_rate={{model.optimizer.learning_rate}}{% endif %}){% elif model.optimizer.name == 'rmsprop' %}keras.optimizers.RMSprop({% if model.optimizer.learning_rate %}learning_rate={{model.optimizer.learning_rate}}{% endif %}){% endif %},\n",
    "            metrics=['accuracy'])\n",
    "\n",
    "model.summary()"
   ]
  },
  {
   "cell_type": "markdown",
   "metadata": {},
   "source": [
    "## Training the model on the Training set"
   ]
  },
  {
   "cell_type": "code",
   "execution_count": null,
   "metadata": {},
   "outputs": [],
   "source": [
    "{% block train %}\n",
    "{% endblock %}"
   ]
  },
  {
   "cell_type": "markdown",
   "metadata": {},
   "source": [
    "## Evaluating the Train Performance"
   ]
  },
  {
   "cell_type": "code",
   "execution_count": null,
   "metadata": {},
   "outputs": [],
   "source": [
    "{% block evaluate_train %}\n",
    "{% endblock %}"
   ]
  },
  {
   "cell_type": "markdown",
   "metadata": {},
   "source": [
    "## Predicting the Test set results"
   ]
  },
  {
   "cell_type": "code",
   "execution_count": null,
   "metadata": {},
   "outputs": [],
   "source": [
    "{% block predict %}\n",
    "{% endblock %}"
   ]
  },
  {
   "cell_type": "markdown",
   "metadata": {},
   "source": [
    "## Evaluating the Model Performance"
   ]
  },
  {
   "cell_type": "code",
   "execution_count": null,
   "metadata": {},
   "outputs": [],
   "source": [
    "{% block evaluate %}\n",
    "from sklearn.metrics import accuracy_score, precision_score, recall_score, f1_score, confusion_matrix, plot_confusion_matrix\n",
    "import seaborn as sns\n",
    "\n",
    "acc = accuracy_score(y_true, y_pred)\n",
    "precision = precision_score(y_true, y_pred, average='weighted')\n",
    "recall = recall_score(y_true, y_pred, average='weighted')**0.5\n",
    "f1 = f1_score(y_true, y_pred, average='weighted')\n",
    "print(f'Accuracy Score: {acc}')\n",
    "print(f'Precision Score: {precision}')\n",
    "print(f'Recall Score: {recall}')\n",
    "print(f'F1 Score: {f1}')\n",
    "\n",
    "cm = confusion_matrix(y_true, y_pred)\n",
    "cm_df = pd.DataFrame(cm)           \n",
    "ax = plt.subplot()\n",
    "sns.heatmap(cm, annot=True, fmt='g', ax=ax);  \n",
    "ax.set_xlabel('Predicted labels');ax.set_ylabel('True labels'); \n",
    "ax.set_title('Confusion Matrix');           \n",
    "plt.show()\n",
    "\n",
    "time_stop = process_time()\n",
    "cpu_time = round(time_stop - time_start, 2)\n",
    "print(f'Elapsed CPU Time: {cpu_time} seconds')\n",
    "{% endblock %}"
   ]
  },
  {
   "cell_type": "markdown",
   "metadata": {},
   "source": [
    "## Saving Model Statistics"
   ]
  },
  {
   "cell_type": "code",
   "execution_count": null,
   "metadata": {},
   "outputs": [],
   "source": [
    "{% block save %}\n",
    "import os\n",
    "import json\n",
    "\n",
    "path = 'statistics'\n",
    "if not os.path.exists(path):\n",
    "    os.mkdir(path)\n",
    "\n",
    "stats = {\n",
    "    \"Accuracy Score\": acc,\n",
    "    \"Precision Score\": precision,\n",
    "    \"Recall Score\": recall,\n",
    "    \"F1 Score\": f1,\n",
    "    \"cpu time\": cpu_time,\n",
    "    \"predicted\": y_pred.flatten().tolist(), \n",
    "    \"real\": y_true.to_numpy().flatten().tolist()\n",
    "}\n",
    "\n",
    "with open(os.path.join(path, \"cnn_da86a2e0-7ca6-11ec-b087-d7c57270a0f7.json\"), \"w\") as f:\n",
    "    json.dump(stats, f, ensure_ascii=False, indent=4)\n",
    "{% endblock %}"
   ]
  }
 ],
 "metadata": {
  "interpreter": {
   "hash": "767b48e45bc6c990438a60469f8fea24552342bcd924b4bf84434b657f97d9ac"
  },
  "kernelspec": {
   "display_name": "Python 3.8.10 64-bit ('venv': venv)",
   "language": "python",
   "name": "python3"
  },
  "language_info": {
   "codemirror_mode": {
    "name": "ipython",
    "version": 3
   },
   "file_extension": ".py",
   "mimetype": "text/x-python",
   "name": "python",
   "nbconvert_exporter": "python",
   "pygments_lexer": "ipython3",
   "version": "3.8.10"
  },
  "orig_nbformat": 4
 },
 "nbformat": 4,
 "nbformat_minor": 2
}
