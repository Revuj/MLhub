{
 "cells": [
  {
   "cell_type": "code",
   "execution_count": 23,
   "source": [
    "import os\n",
    "import json\n",
    "import numpy as np\n",
    "import matplotlib.pyplot as plt\n",
    "import pandas as pd\n",
    "\n",
    "predictions = {}\n",
    "r2_scores = {}\n",
    "rmses = {}\n",
    "maes = {}\n",
    "cpu_times = {}\n",
    "models = []\n",
    "\n",
    "for filename in os.listdir(\"statistics\"):\n",
    "   with open(os.path.join(\"statistics\", filename), 'r') as f: # open in readonly mode\n",
    "      stats = json.load(f)\n",
    "      model_name = filename.split('.')[0]\n",
    "      predictions[model_name] = stats[\"predicted\"]\n",
    "      r2_scores[model_name] = stats[\"R2 Score\"]\n",
    "      rmses[model_name] = stats[\"RMSE\"]\n",
    "      maes[model_name] = stats[\"MAE\"]\n",
    "      cpu_times[model_name] = stats[\"cpu time\"]\n",
    "      models.append(model_name)\n",
    "\n",
    "data = {\n",
    "   \"R2 Score\": r2_scores,\n",
    "   \"RMSE\": rmses,\n",
    "   \"MAE\": maes,\n",
    "   \"CPU Time\": cpu_times\n",
    "}\n",
    "\n",
    "df = pd.DataFrame(data, index=models)"
   ],
   "outputs": [],
   "metadata": {}
  },
  {
   "cell_type": "markdown",
   "source": [
    "## Model Predictions Comparison"
   ],
   "metadata": {}
  },
  {
   "cell_type": "code",
   "execution_count": null,
   "source": [
    "for model, y_pred in predictions.items():\n",
    "    x_ax = range(len(y_pred))\n",
    "    plt.plot(x_ax, y_pred, linewidth=1, label=model.split('.')[0])\n",
    "\n",
    "plt.plot(x_ax, stats['real'], linewidth=2, label=\"original\")\n",
    "\n",
    "plt.title(\"Model Predictions Comparison\")\n",
    "plt.xlabel('Entry')\n",
    "plt.ylabel('Prediction')\n",
    "plt.legend(loc='best',fancybox=True, shadow=True)\n",
    "plt.grid(True)\n",
    "plt.show()"
   ],
   "outputs": [],
   "metadata": {}
  },
  {
   "cell_type": "markdown",
   "source": [
    "## Model Metrics Comparison"
   ],
   "metadata": {}
  },
  {
   "cell_type": "code",
   "execution_count": null,
   "source": [
    "fig, ax = plt.subplots(2, 2)\n",
    "colors = ['#1b9e77', '#a9f971', '#fdaa48','#6890F0','#A890F0'] \n",
    "\n",
    "ax[0, 0].set_title('R2 Scores by model')\n",
    "ax[0, 0].set_ylabel('R2 Score')\n",
    "ax[0, 0].set_xlabel('Model')\n",
    "ax[0, 0].bar(r2_scores.keys(), r2_scores.values(), color = colors)\n",
    "\n",
    "ax[0, 1].set_title('RMSE by model')\n",
    "ax[0, 1].set_ylabel('RMSE')\n",
    "ax[0, 1].set_xlabel('Model')\n",
    "ax[0, 1].bar(rmses.keys(), rmses.values(), color = colors)\n",
    "\n",
    "ax[1, 0].set_title('MAE by model')\n",
    "ax[1, 0].set_ylabel('MAE')\n",
    "ax[1, 0].set_xlabel('Model')\n",
    "ax[1, 0].bar(maes.keys(), maes.values(), color = colors)\n",
    "\n",
    "ax[1, 1].set_title('CPU Times by model')\n",
    "ax[1, 1].set_ylabel('CPU Time')\n",
    "ax[1, 1].set_xlabel('Model')\n",
    "ax[1, 1].bar(cpu_times.keys(), cpu_times.values(), color = colors)\n",
    "\n",
    "fig.autofmt_xdate()\n",
    "plt.subplots_adjust(left=0.1,\n",
    "                    bottom=0.1, \n",
    "                    right=0.9, \n",
    "                    top=0.9, \n",
    "                    wspace=0.4, \n",
    "                    hspace=0.4)\n",
    "plt.show()\n",
    "df"
   ],
   "outputs": [],
   "metadata": {}
  }
 ],
 "metadata": {
  "orig_nbformat": 4,
  "language_info": {
   "name": "python",
   "version": "3.8.9",
   "mimetype": "text/x-python",
   "codemirror_mode": {
    "name": "ipython",
    "version": 3
   },
   "pygments_lexer": "ipython3",
   "nbconvert_exporter": "python",
   "file_extension": ".py"
  },
  "kernelspec": {
   "name": "python3",
   "display_name": "Python 3.8.9 64-bit ('venv': venv)"
  },
  "interpreter": {
   "hash": "a79bc06c91a9bf13bf775bffd87c8b82a4ff8487ca9c6ddc7ac97f9c42d293c1"
  }
 },
 "nbformat": 4,
 "nbformat_minor": 2
}