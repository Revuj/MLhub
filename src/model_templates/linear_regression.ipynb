{
  "cells": [
    {
      "cell_type": "code",
      "execution_count": null,
      "metadata": {
        "id": "T_YHJjnD_Tja"
      },
      "outputs": [],
      "source": [
        "{% block title %}\n",
        "## Linear Regression\n",
        "{% endblock %}\n",
        "{% block train %}\n",
        "from sklearn.linear_model import LinearRegression\n",
        "regressor = LinearRegression(fit_intercept= {{model.fit_intercept}},\n",
        "                            copy_X= {{model.copy_X}},\n",
        "                            n_jobs= {{model.n_jobs}},\n",
        "                            positive= {{model.positive}})\n",
        "regressor.fit(X_train, y_train)\n",
        "{% endblock %}"
      ]
    }
  ],
  "metadata": {
    "colab": {
      "collapsed_sections": [],
      "name": "Cópia de multiple_linear_regression.ipynb",
      "provenance": []
    },
    "kernelspec": {
      "display_name": "Python 3",
      "name": "python3"
    }
  },
  "nbformat": 4,
  "nbformat_minor": 2
}
