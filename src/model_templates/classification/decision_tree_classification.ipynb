{
 "cells": [
  {
   "cell_type": "code",
   "execution_count": null,
   "source": [
    "{% block title %}\n",
    "# Decision Tree Classification\n",
    "{% endblock %}\n",
    "{% block train %}\n",
    "from sklearn.tree import DecisionTreeRegressor\n",
    "from sklearn.tree import DecisionTreeClassifier\n",
    "classifier = DecisionTreeClassifier(criterion=\"{{model.criterion}}\", \n",
    "                            splitter=\"{{model.splitter}}\", \n",
    "                            max_depth={{model.max_depth}}, \n",
    "                            min_samples_split= {{model.min_samples_split}},\n",
    "                            min_samples_leaf= {{model.min_samples_leaf}},\n",
    "                            min_weight_fraction_leaf= {{model.min_weight_fraction_leaf}},\n",
    "                            max_features={{model.max_features}} if \"{{model.max_features}}\".isnumeric() or \"{{model.max_features}}\" == \"None\" else \"{{model.max_features}}\",\n",
    "                            random_state= {{model.random_state}},\n",
    "                            max_leaf_nodes= {{model.max_leaf_nodes}},\n",
    "                            min_impurity_decrease= {{model.min_impurity_decrease}},\n",
    "                            ccp_alpha= {{model.ccp_alpha}})\n",
    "classifier.fit(X_train, y_train)\n",
    "{% endblock %}"
   ],
   "outputs": [],
   "metadata": {}
  }
 ],
 "metadata": {
  "orig_nbformat": 4,
  "language_info": {
   "name": "python"
  }
 },
 "nbformat": 4,
 "nbformat_minor": 2
}