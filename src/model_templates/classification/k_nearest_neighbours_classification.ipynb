{
 "cells": [
  {
   "cell_type": "code",
   "execution_count": null,
   "source": [
    "{% block title %}\n",
    "# Support Vector Machine Classification\n",
    "{% endblock %}\n",
    "{% block train %}\n",
    "from sklearn.neighbors import KNeighborsClassifier\n",
    "classifier = KNeighborsClassifier(n_neighbors = {{model.n_neighbors}},\n",
    "                                weights = \"{{model.weights}}\",\n",
    "                                algorithm = \"{{model.algorithm}}\",\n",
    "                                leaf_size = {{model.leaf_size}},\n",
    "                                p = {{model.p}},\n",
    "                                metric = \"{{model.metric}}\",\n",
    "                                n_jobs = {{model.n_jobs}})\n",
    "classifier.fit(X_train, y_train)\n",
    "{% endblock %}"
   ],
   "outputs": [],
   "metadata": {}
  }
 ],
 "metadata": {
  "orig_nbformat": 4,
  "language_info": {
   "name": "python"
  }
 },
 "nbformat": 4,
 "nbformat_minor": 2
}