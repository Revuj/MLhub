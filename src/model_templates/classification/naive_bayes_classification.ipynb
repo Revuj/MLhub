{
 "cells": [
  {
   "cell_type": "code",
   "execution_count": null,
   "source": [
    "{% block title %}\n",
    "# Naive Bayes Classification\n",
    "{% endblock %}\n",
    "{% block train %}\n",
    "from sklearn.naive_bayes import GaussianNB\n",
    "classifier = GaussianNB()\n",
    "classifier.fit(X_train, y_train)\n",
    "{% endblock %}"
   ],
   "outputs": [],
   "metadata": {}
  }
 ],
 "metadata": {
  "orig_nbformat": 4,
  "language_info": {
   "name": "python"
  }
 },
 "nbformat": 4,
 "nbformat_minor": 2
}