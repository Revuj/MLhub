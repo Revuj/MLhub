{
 "cells": [
  {
   "cell_type": "code",
   "execution_count": null,
   "source": [
    "{% block title %}\n",
    "# Support Vector Machine Classification\n",
    "{% endblock %}\n",
    "{% block train %}\n",
    "from sklearn.svm import SVC\n",
    "classifier = SVC(C = {{model.C}},\n",
    "                kernel = \"{{model.kernel}}\",\n",
    "                degree = {{model.degree}},\n",
    "                gamma= {{model.gamma}} if \"{{model.gamma}}\".isnumeric() else \"{{model.gamma}}\",\n",
    "                coef0 = {{model.coef0}},\n",
    "                shrinking = {{model.shrinking}},\n",
    "                probability = {{model.probability}},\n",
    "                tol = {{model.tol}},\n",
    "                max_iter = {{model.max_iter}},\n",
    "                decision_function_shape = \"{{model.decision_function_shape}}\",\n",
    "                break_ties = {{model.break_ties}})\n",
    "classifier.fit(X_train, y_train)\n",
    "{% endblock %}"
   ],
   "outputs": [],
   "metadata": {}
  }
 ],
 "metadata": {
  "orig_nbformat": 4,
  "language_info": {
   "name": "python"
  }
 },
 "nbformat": 4,
 "nbformat_minor": 2
}