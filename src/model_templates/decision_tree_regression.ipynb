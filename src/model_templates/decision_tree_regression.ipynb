{
 "cells": [
  {
   "cell_type": "markdown",
   "metadata": {},
   "source": [
    "# Simple Decision Tree"
   ]
  },
  {
   "cell_type": "markdown",
   "metadata": {},
   "source": [
    "## Importing the libraries"
   ]
  },
  {
   "cell_type": "code",
   "execution_count": null,
   "metadata": {},
   "outputs": [],
   "source": [
    "import numpy as np\n",
    "import matplotlib.pyplot as plt\n",
    "import pandas as pd"
   ]
  },
  {
   "cell_type": "markdown",
   "metadata": {},
   "source": [
    "## Import the dataset"
   ]
  },
  {
   "cell_type": "code",
   "execution_count": null,
   "metadata": {},
   "outputs": [],
   "source": [
    "X = pd.read_csv('{{ features_file_path }}').values\n",
    "y = pd.read_csv('{{ labels_file_path }}').values"
   ]
  },
  {
   "cell_type": "markdown",
   "metadata": {},
   "source": [
    "## Splitting the dataset into the Training set and Test set"
   ]
  },
  {
   "cell_type": "code",
   "execution_count": null,
   "metadata": {},
   "outputs": [],
   "source": [
    "from sklearn.model_selection import train_test_split\n",
    "X_train, X_test, y_train, y_test = train_test_split(X, y,  test_size={{train_split.test_size}},\n",
    "                        train_size={{train_split.train_size}},\n",
    "                        random_state={{train_split.random_state}},\n",
    "                        shuffle={{train_split.random_state}},\n",
    "                        stratify=X if \"{{train_split.stratify}}\" == \"features\" else y if \"{{train_split.stratify}}\" == \"labels\" else None)"
   ]
  },
  {
   "cell_type": "markdown",
   "metadata": {},
   "source": [
    "## Training the Simple Decision Tree model on the Training set"
   ]
  },
  {
   "cell_type": "code",
   "execution_count": null,
   "metadata": {},
   "outputs": [],
   "source": [
    "from sklearn.tree import DecisionTreeRegressor\n",
    "regressor = DecisionTreeRegressor(criterion=\"{{model.criterion}}\", splitter=\"{{model.splitter}}\", \n",
    "                            max_depth={{model.max_depth}}, \n",
    "                            min_samples_split= {{model.min_samples_split}},\n",
    "                            min_samples_leaf= {{model.min_samples_leaf}},\n",
    "                            min_weight_fraction_leaf= {{model.min_weight_fraction_leaf}},\n",
    "                            max_features={{model.max_features}} if \"{{model.max_features}}\".isnumeric() or \"{{model.max_features}}\" == \"None\" else \"{{model.max_features}}\",\n",
    "                            random_state= {{model.random_state}},\n",
    "                            max_leaf_nodes= {{model.max_leaf_nodes}},\n",
    "                            min_impurity_decrease= {{model.min_impurity_decrease}},\n",
    "                            ccp_alpha= {{model.ccp_alpha}})\n",
    "regressor.fit(X_train, y_train)"
   ]
  },
  {
   "cell_type": "markdown",
   "metadata": {},
   "source": [
    "## Predicting the Test set results"
   ]
  },
  {
   "cell_type": "code",
   "execution_count": null,
   "metadata": {},
   "outputs": [],
   "source": [
    "y_pred = regressor.predict(X_test)"
   ]
  },
  {
   "cell_type": "markdown",
   "metadata": {},
   "source": [
    "## Evaluating the Model Performance"
   ]
  },
  {
   "cell_type": "code",
   "execution_count": null,
   "metadata": {},
   "outputs": [],
   "source": [
    "from sklearn.metrics import r2_score\n",
    "r2_score(y_test, y_pred)"
   ]
  }
 ],
 "metadata": {
  "language_info": {
   "name": "python"
  },
  "orig_nbformat": 4
 },
 "nbformat": 4,
 "nbformat_minor": 2
}
