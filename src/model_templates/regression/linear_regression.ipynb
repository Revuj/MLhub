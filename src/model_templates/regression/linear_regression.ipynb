{
  "cells": [
    {
      "cell_type": "markdown",
      "source": [
        "# Simple Linear Regression"
      ],
      "metadata": {
        "id": "CazISR8X_HUG"
      }
    },
    {
      "cell_type": "markdown",
      "source": [
        "## Importing the libraries"
      ],
      "metadata": {
        "id": "pOyqYHTk_Q57"
      }
    },
    {
      "cell_type": "code",
      "execution_count": null,
      "source": [
        "import numpy as np\n",
        "import matplotlib.pyplot as plt\n",
        "import pandas as pd"
      ],
      "outputs": [],
      "metadata": {
        "id": "T_YHJjnD_Tja"
      }
    },
    {
      "cell_type": "markdown",
      "source": [
        "## Importing the dataset"
      ],
      "metadata": {
        "id": "vgC61-ah_WIz"
      }
    },
    {
      "cell_type": "code",
      "execution_count": null,
      "source": [
        "X = pd.read_csv('{{ features_file_path }}').values\n",
        "y = pd.read_csv('{{ labels_file_path }}').values"
      ],
      "outputs": [],
      "metadata": {
        "id": "UrxyEKGn_ez7"
      }
    },
    {
      "cell_type": "markdown",
      "source": [
        "## Splitting the dataset into the Training set and Test set"
      ],
      "metadata": {
        "id": "WemVnqgeA70k"
      }
    },
    {
      "cell_type": "code",
      "execution_count": null,
      "source": [
        "from sklearn.model_selection import train_test_split\n",
        "X_train, X_test, y_train, y_test = train_test_split(X, y, test_size = 0.2, random_state = 0)"
      ],
      "outputs": [],
      "metadata": {
        "id": "Kb_v_ae-A-20"
      }
    },
    {
      "cell_type": "markdown",
      "source": [
        "## Training the Simple Linear Regression model on the Training set"
      ],
      "metadata": {
        "id": "k-McZVsQBINc"
      }
    },
    {
      "cell_type": "code",
      "execution_count": null,
      "source": [
        "from sklearn.linear_model import LinearRegression\n",
        "regressor = LinearRegression()\n",
        "regressor.fit(X_train, y_train)"
      ],
      "outputs": [],
      "metadata": {
        "colab": {
          "base_uri": "https://localhost:8080/"
        },
        "id": "ywPjx0L1BMiD",
        "outputId": "ccf30fc0-de44-4759-f9f5-ed8586bc5a8e"
      }
    },
    {
      "cell_type": "markdown",
      "source": [
        "## Predicting the Test set results"
      ],
      "metadata": {
        "id": "xNkXL1YQBiBT"
      }
    },
    {
      "cell_type": "code",
      "execution_count": null,
      "source": [
        "y_pred = regressor.predict(X_test)"
      ],
      "outputs": [],
      "metadata": {
        "colab": {
          "base_uri": "https://localhost:8080/"
        },
        "id": "TQKmwvtdBkyb",
        "outputId": "1b51a705-cf06-4a1f-bcad-d39fc94d926c"
      }
    },
    {
      "cell_type": "markdown",
      "source": [
        "## Evaluating the Model Performance"
      ],
      "metadata": {
        "id": "50DZZy0UyhLi"
      }
    },
    {
      "cell_type": "code",
      "execution_count": null,
      "source": [
        "from sklearn.metrics import r2_score, mean_squared_error, mean_absolute_error\n",
        "print(f'R2 Score: {r2_score(y_test, y_pred)}')\n",
        "print(f'RMSE: {mean_squared_error(y_test, y_pred)**0.5}')\n",
        "print(f'MAE: {mean_absolute_error(y_test, y_pred)}')"
      ],
      "outputs": [],
      "metadata": {
        "colab": {
          "base_uri": "https://localhost:8080/"
        },
        "id": "xPagAOKDywV4",
        "outputId": "e092c3f0-2fa6-4fbd-fdbf-a2ab99dc43c1"
      }
    },
    {
      "cell_type": "code",
      "execution_count": null,
      "source": [
        "x_ax = range(len(y_test))\n",
        "plt.plot(x_ax, y_test, linewidth=1, label=\"original\")\n",
        "plt.plot(x_ax, y_pred, linewidth=1.1, label=\"predicted\")\n",
        "plt.title(\"y-test and y-predicted data\")\n",
        "plt.xlabel('X-axis')\n",
        "plt.ylabel('Y-axis')\n",
        "plt.legend(loc='best',fancybox=True, shadow=True)\n",
        "plt.grid(True)\n",
        "plt.show() "
      ],
      "outputs": [],
      "metadata": {}
    }
  ],
  "metadata": {
    "colab": {
      "collapsed_sections": [],
      "name": "Cópia de multiple_linear_regression.ipynb",
      "provenance": []
    },
    "kernelspec": {
      "display_name": "Python 3",
      "name": "python3"
    }
  },
  "nbformat": 4,
  "nbformat_minor": 2
}