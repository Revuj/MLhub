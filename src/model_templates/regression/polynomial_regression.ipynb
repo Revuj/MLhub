{
  "cells": [
    {
      "cell_type": "markdown",
      "source": [
        "# Polynomial Regression"
      ],
      "metadata": {
        "colab_type": "text",
        "id": "vN99YjPTDena"
      }
    },
    {
      "cell_type": "markdown",
      "source": [
        "## Importing the libraries"
      ],
      "metadata": {
        "colab_type": "text",
        "id": "ZIx_naXnDyHd"
      }
    },
    {
      "cell_type": "code",
      "execution_count": null,
      "source": [
        "import numpy as np\n",
        "import matplotlib.pyplot as plt\n",
        "import pandas as pd"
      ],
      "outputs": [],
      "metadata": {
        "colab": {},
        "colab_type": "code",
        "id": "FjnmdyPLD2tS"
      }
    },
    {
      "cell_type": "markdown",
      "source": [
        "## Start stopwatch"
      ],
      "metadata": {}
    },
    {
      "cell_type": "code",
      "execution_count": null,
      "source": [
        "from time import process_time\n",
        "time_start = process_time() "
      ],
      "outputs": [],
      "metadata": {}
    },
    {
      "cell_type": "markdown",
      "source": [
        "## Importing the dataset"
      ],
      "metadata": {
        "colab_type": "text",
        "id": "6c8YExmOD5x5"
      }
    },
    {
      "cell_type": "code",
      "execution_count": null,
      "source": [
        "X = pd.read_csv('{{ features_file_path }}').values\n",
        "y = pd.read_csv('{{ labels_file_path }}').values"
      ],
      "outputs": [],
      "metadata": {
        "colab": {},
        "colab_type": "code",
        "id": "nQOdXhjXD_AE"
      }
    },
    {
      "cell_type": "markdown",
      "source": [
        "## Splitting the dataset into the Training set and Test set"
      ],
      "metadata": {}
    },
    {
      "cell_type": "code",
      "execution_count": null,
      "source": [
        "from sklearn.model_selection import train_test_split\n",
        "X_train, X_test, y_train, y_test = train_test_split(X, y, test_size = 0.2, random_state = 0)"
      ],
      "outputs": [],
      "metadata": {}
    },
    {
      "cell_type": "markdown",
      "source": [
        "## Training the Polynomial Regression model on the whole dataset"
      ],
      "metadata": {
        "colab_type": "text",
        "id": "Rb5nWuSHEfBV"
      }
    },
    {
      "cell_type": "code",
      "execution_count": null,
      "source": [
        "from sklearn.preprocessing import PolynomialFeatures\n",
        "from sklearn.linear_model import LinearRegression\n",
        "poly_reg = PolynomialFeatures(degree = 4)\n",
        "X_poly = poly_reg.fit_transform(X_train)\n",
        "lin_reg = LinearRegression()\n",
        "lin_reg.fit(X_poly, y_train)"
      ],
      "outputs": [],
      "metadata": {
        "colab": {
          "base_uri": "https://localhost:8080/",
          "height": 35
        },
        "colab_type": "code",
        "id": "HYplp4pTEm0O",
        "outputId": "4c3c03dd-0def-4584-a893-aa2e72629e8f"
      }
    },
    {
      "cell_type": "markdown",
      "source": [
        "## Predicting the Test set results"
      ],
      "metadata": {
        "colab_type": "text",
        "id": "stOnSo74E52m"
      }
    },
    {
      "cell_type": "code",
      "execution_count": null,
      "source": [
        "y_pred = lin_reg.predict(poly_reg.fit_transform(X_test))"
      ],
      "outputs": [],
      "metadata": {}
    },
    {
      "cell_type": "markdown",
      "source": [
        "## Evaluating the Model Performance"
      ],
      "metadata": {
        "colab_type": "text",
        "id": "DW7I7ZVDFNkk"
      }
    },
    {
      "cell_type": "code",
      "execution_count": null,
      "source": [
        "from sklearn.metrics import r2_score, mean_squared_error, mean_absolute_error\n",
        "print(f'R2 Score: {r2_score(y_test, y_pred)}')\n",
        "print(f'RMSE: {mean_squared_error(y_test, y_pred)**0.5}')\n",
        "print(f'MAE: {mean_absolute_error(y_test, y_pred)}')"
      ],
      "outputs": [],
      "metadata": {
        "colab": {
          "base_uri": "https://localhost:8080/",
          "height": 35
        },
        "colab_type": "code",
        "id": "uQmtnyTHFRGG",
        "outputId": "2739bf8a-6dfb-4226-b200-252ee8857097"
      }
    },
    {
      "cell_type": "code",
      "execution_count": null,
      "source": [
        "x_ax = range(len(y_test))\n",
        "plt.plot(x_ax, y_test, linewidth=1, label=\"original\")\n",
        "plt.plot(x_ax, y_pred, linewidth=1.1, label=\"predicted\")\n",
        "plt.title(\"y-test and y-predicted data\")\n",
        "plt.xlabel('X-axis')\n",
        "plt.ylabel('Y-axis')\n",
        "plt.legend(loc='best',fancybox=True, shadow=True)\n",
        "plt.grid(True)\n",
        "plt.show() "
      ],
      "outputs": [],
      "metadata": {}
    },
    {
      "cell_type": "code",
      "execution_count": null,
      "source": [
        "time_stop = process_time()\n",
        "print(f'Elapsed CPU Time: {round(time_stop - time_start, 2)} seconds')"
      ],
      "outputs": [],
      "metadata": {}
    }
  ],
  "metadata": {
    "colab": {
      "collapsed_sections": [],
      "name": "polynomial_regression.ipynb",
      "provenance": [],
      "toc_visible": true
    },
    "kernelspec": {
      "display_name": "Python 3",
      "name": "python3"
    }
  },
  "nbformat": 4,
  "nbformat_minor": 2
}