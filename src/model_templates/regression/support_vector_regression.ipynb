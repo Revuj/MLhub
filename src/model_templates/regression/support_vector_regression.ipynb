{
  "cells": [
    {
      "cell_type": "markdown",
      "source": [
        "# Support Vector Regression (SVR)"
      ],
      "metadata": {
        "colab_type": "text",
        "id": "m3PAEPRDRLA3"
      }
    },
    {
      "cell_type": "markdown",
      "source": [
        "## Importing the libraries"
      ],
      "metadata": {
        "colab_type": "text",
        "id": "0VCUAVIjRdzZ"
      }
    },
    {
      "cell_type": "code",
      "execution_count": null,
      "source": [
        "import numpy as np\n",
        "import matplotlib.pyplot as plt\n",
        "import pandas as pd"
      ],
      "outputs": [],
      "metadata": {
        "colab": {},
        "colab_type": "code",
        "id": "56oRF-QfSDzC"
      }
    },
    {
      "cell_type": "markdown",
      "source": [
        "## Importing the dataset"
      ],
      "metadata": {
        "colab_type": "text",
        "id": "fXVXoFWtSF4_"
      }
    },
    {
      "cell_type": "code",
      "execution_count": null,
      "source": [
        "X = pd.read_csv('{{ features_file_path }}').values\n",
        "y = pd.read_csv('{{ labels_file_path }}').values"
      ],
      "outputs": [],
      "metadata": {
        "colab": {},
        "colab_type": "code",
        "id": "xfoa8OSORfHQ"
      }
    },
    {
      "cell_type": "markdown",
      "source": [
        "## Splitting the dataset into the Training set and Test set"
      ],
      "metadata": {}
    },
    {
      "cell_type": "code",
      "execution_count": null,
      "source": [
        "from sklearn.model_selection import train_test_split\n",
        "X_train, X_test, y_train, y_test = train_test_split(X, y, test_size = 0.2, random_state = 0)"
      ],
      "outputs": [],
      "metadata": {}
    },
    {
      "cell_type": "markdown",
      "source": [
        "## Training the SVR model on the training aset"
      ],
      "metadata": {
        "colab_type": "text",
        "id": "eiU6D2QFRjxY"
      }
    },
    {
      "cell_type": "code",
      "execution_count": null,
      "source": [
        "from sklearn.svm import SVR\n",
        "regressor = SVR(kernel = 'rbf')\n",
        "regressor.fit(X_train, y_train)"
      ],
      "outputs": [
        {
          "output_type": "stream",
          "name": "stderr",
          "text": [
            "/usr/local/lib/python3.6/dist-packages/sklearn/utils/validation.py:760: DataConversionWarning: A column-vector y was passed when a 1d array was expected. Please change the shape of y to (n_samples, ), for example using ravel().\n",
            "  y = column_or_1d(y, warn=True)\n"
          ]
        },
        {
          "output_type": "execute_result",
          "data": {
            "text/plain": [
              "SVR(C=1.0, cache_size=200, coef0=0.0, degree=3, epsilon=0.1, gamma='scale',\n",
              "    kernel='rbf', max_iter=-1, shrinking=True, tol=0.001, verbose=False)"
            ]
          },
          "metadata": {
            "tags": []
          },
          "execution_count": 10
        }
      ],
      "metadata": {
        "colab": {
          "base_uri": "https://localhost:8080/",
          "height": 105
        },
        "colab_type": "code",
        "id": "y6R4rt_GRz15",
        "outputId": "4b0c1e6b-d4b8-417e-d7d0-4c9dd7bc2b12"
      }
    },
    {
      "cell_type": "markdown",
      "source": [
        "## Predicting the Test set results"
      ],
      "metadata": {
        "colab_type": "text",
        "id": "deDnDr8UR5vq"
      }
    },
    {
      "cell_type": "code",
      "execution_count": null,
      "source": [
        "y_pred = regressor.predict(X_test)"
      ],
      "outputs": [
        {
          "output_type": "execute_result",
          "data": {
            "text/plain": [
              "array([170370.0204065])"
            ]
          },
          "metadata": {
            "tags": []
          },
          "execution_count": 11
        }
      ],
      "metadata": {
        "colab": {
          "base_uri": "https://localhost:8080/",
          "height": 34
        },
        "colab_type": "code",
        "id": "ib89-Fq8R8v-",
        "outputId": "0cbe0d2a-4d4f-402e-f811-0b323ce76ecc"
      }
    },
    {
      "cell_type": "markdown",
      "source": [
        "## Evaluating the Model Performance"
      ],
      "metadata": {}
    },
    {
      "cell_type": "code",
      "execution_count": null,
      "source": [
        "from sklearn.metrics import r2_score, mean_squared_error, mean_absolute_error\n",
        "print(f'R2 Score: {r2_score(y_test, y_pred)}')\n",
        "print(f'RMSE: {mean_squared_error(y_test, y_pred)**0.5}')\n",
        "print(f'MAE: {mean_absolute_error(y_test, y_pred)}')"
      ],
      "outputs": [],
      "metadata": {}
    },
    {
      "cell_type": "code",
      "execution_count": null,
      "source": [
        "x_ax = range(len(y_test))\n",
        "plt.plot(x_ax, y_test, linewidth=1, label=\"original\")\n",
        "plt.plot(x_ax, y_pred, linewidth=1.1, label=\"predicted\")\n",
        "plt.title(\"y-test and y-predicted data\")\n",
        "plt.xlabel('X-axis')\n",
        "plt.ylabel('Y-axis')\n",
        "plt.legend(loc='best',fancybox=True, shadow=True)\n",
        "plt.grid(True)\n",
        "plt.show() "
      ],
      "outputs": [],
      "metadata": {}
    }
  ],
  "metadata": {
    "colab": {
      "collapsed_sections": [],
      "name": "support_vector_regression.ipynb",
      "provenance": [],
      "toc_visible": true
    },
    "kernelspec": {
      "display_name": "Python 3",
      "name": "python3"
    }
  },
  "nbformat": 4,
  "nbformat_minor": 2
}