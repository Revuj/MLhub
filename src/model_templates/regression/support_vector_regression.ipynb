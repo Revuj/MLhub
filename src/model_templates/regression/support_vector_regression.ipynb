{
  "cells": [
    {
      "cell_type": "code",
      "execution_count": null,
      "source": [
        "{% block title %}\n",
        "## Support Vector Regression\n",
        "{% endblock %}\n",
        "{% block train %}\n",
        "from sklearn.svm import SVR\n",
        "regressor = SVR(kernel= \"{{model.kernel}}\",\n",
        "                            degree={{model.degree}},\n",
        "                            gamma= {{model.gamma}} if \"{{model.gamma}}\".isnumeric() else \"{{model.gamma}}\",\n",
        "                            coef0={{model.coef0}},\n",
        "                            tol= {{model.tol}},\n",
        "                            C= {{model.C}},\n",
        "                            epsilon= {{model.epsilon}},\n",
        "                            shrinking= {{model.shrinking}},\n",
        "                            cache_size= {{model.cache_size}},\n",
        "                            verbose= {{model.verbose}},\n",
        "                            max_iter={{model.max_iter}})\n",
        "regressor.fit(X_train, y_train)\n",
        "{% endblock %}"
      ],
      "outputs": [],
      "metadata": {
        "colab": {
          "base_uri": "https://localhost:8080/",
          "height": 105
        },
        "colab_type": "code",
        "id": "y6R4rt_GRz15",
        "outputId": "4b0c1e6b-d4b8-417e-d7d0-4c9dd7bc2b12"
      }
    }
  ],
  "metadata": {
    "colab": {
      "collapsed_sections": [],
      "name": "support_vector_regression.ipynb",
      "provenance": [],
      "toc_visible": true
    },
    "kernelspec": {
      "display_name": "Python 3",
      "name": "python3"
    },
    "language_info": {
      "name": "python",
      "version": "3.8.10"
    }
  },
  "nbformat": 4,
  "nbformat_minor": 2
}