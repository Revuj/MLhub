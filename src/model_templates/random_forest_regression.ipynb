{
 "cells": [
  {
   "cell_type": "code",
   "execution_count": null,
   "source": [
    "{% block title %}\n",
    "## Random Forest Regression\n",
    "{% endblock %}\n",
    "{% block train %}\n",
    "from sklearn.ensemble import RandomForestRegressor\n",
    "regressor = RandomForestRegressor(n_estimators=  {{model.n_estimators}},\n",
    "                            criterion= \"{{model.criterion}}\",\n",
    "                            max_depth=  {{model.max_depth}},\n",
    "                            min_samples_split=  {{model.min_samples_split}},\n",
    "                            min_samples_leaf=  {{model.min_samples_leaf}},\n",
    "                            min_weight_fraction_leaf=  {{model.min_weight_fraction_leaf}},\n",
    "                            max_features=  {{model.max_features}} if \"{{model.max_features}}\".isnumeric() or {{model.max_features}} is None else \"{{model.max_features}}\",\n",
    "                            random_state=  {{model.random_state}},\n",
    "                            max_leaf_nodes=  {{model.max_leaf_nodes}},\n",
    "                            min_impurity_decrease= {{model.min_impurity_decrease}},\n",
    "                            ccp_alpha=  {{model.ccp_alpha}},\n",
    "                            bootstrap=  {{model.bootstrap}},\n",
    "                            oob_score=  {{model.oob_score}},\n",
    "                            n_jobs=  {{model.n_jobs}},\n",
    "                            verbose= {{model.verbose}},\n",
    "                            warm_start=  {{model.warm_start}},\n",
    "                            max_samples=  {{model.max_samples}})\n",
    "regressor.fit(X_train, y_train)\n",
    "{% endblock %}"
   ],
   "outputs": [],
   "metadata": {}
  }
 ],
 "metadata": {
  "language_info": {
   "name": "python"
  },
  "orig_nbformat": 4
 },
 "nbformat": 4,
 "nbformat_minor": 2
}